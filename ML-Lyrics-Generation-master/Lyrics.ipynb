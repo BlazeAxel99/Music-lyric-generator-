{
  "nbformat": 4,
  "nbformat_minor": 0,
  "metadata": {
    "colab": {
      "name": "Lyrics",
      "provenance": []
    },
    "kernelspec": {
      "name": "python3",
      "display_name": "Python 3"
    }
  },
  "cells": [
    {
      "cell_type": "code",
      "metadata": {
        "id": "ciNBVYiH6JL4",
        "colab_type": "code",
        "colab": {}
      },
      "source": [
        "import requests"
      ],
      "execution_count": 1,
      "outputs": []
    },
    {
      "cell_type": "code",
      "metadata": {
        "id": "3ihAEzOi6k4-",
        "colab_type": "code",
        "colab": {}
      },
      "source": [
        "data = requests.get(\"https://raw.githubusercontent.com/coding-blocks-archives/ML-Noida-2019-June-Two/master/datasets/speeches/speech.txt\")"
      ],
      "execution_count": 2,
      "outputs": []
    },
    {
      "cell_type": "code",
      "metadata": {
        "id": "jtAj3AMJ6qdw",
        "colab_type": "code",
        "colab": {}
      },
      "source": [
        "data = data.text"
      ],
      "execution_count": 4,
      "outputs": []
    },
    {
      "cell_type": "code",
      "metadata": {
        "id": "4ftSFbIp6rXk",
        "colab_type": "code",
        "colab": {
          "base_uri": "https://localhost:8080/",
          "height": 86
        },
        "outputId": "3e595b76-e66f-492a-930b-7fec409e97f2"
      },
      "source": [
        "data[0:500]"
      ],
      "execution_count": 7,
      "outputs": [
        {
          "output_type": "execute_result",
          "data": {
            "application/vnd.google.colaboratory.intrinsic+json": {
              "type": "string"
            },
            "text/plain": [
              "'26 8 2016, India\\nNiti Aayog\\nThere was a time when development was believed to depend on the quantity of capital and labour. Today we know that it depends as much on the quality of institutions and ideas. Early last year, a new institution was created, namely, the National Institution for Transforming India or NITI. NITI was created as an evidence based think tank to guide India’s transformation.\\nOne of NITI’s functions is:\\n- to mainstream external ideas into Government policies, through collabor'"
            ]
          },
          "metadata": {
            "tags": []
          },
          "execution_count": 7
        }
      ]
    },
    {
      "cell_type": "code",
      "metadata": {
        "id": "nS7slpOt61L3",
        "colab_type": "code",
        "colab": {}
      },
      "source": [
        "\"hello hello helli helly helli hello\"\n",
        "\n",
        "X.       y.        freq\n",
        "\"hell\"   'o'        3\n",
        "\"ello\"  ' '         1\n",
        "\"hell\"   'i'        2\n",
        "\"hell\"    'y'       1\n",
        "'elly'    ' '\n",
        "'elly'   ' '"
      ],
      "execution_count": null,
      "outputs": []
    },
    {
      "cell_type": "code",
      "metadata": {
        "id": "0-rtUX1j9UfJ",
        "colab_type": "code",
        "colab": {}
      },
      "source": [
        "def generateTransition(data, k = 4):\n",
        "  T = {}\n",
        "\n",
        "  for i in range(len(data)- k):\n",
        "    X = data[i : i+k]\n",
        "    y = data[i+k]\n",
        "  \n",
        "    if T.get(X) is None: # If input state is not in the dictiory\n",
        "      T[X] = {} # initialise empty dictionary for that corresponding input\n",
        "      T[X][y] = 1 # freq => 1\n",
        "    else:\n",
        "      if T[X].get(y) is None:  # If you already have input in dictionary but the output is not in dictionary\n",
        "        T[X][y] = 1\n",
        "    \n",
        "      else:\n",
        "        T[X][y] += 1 # if you have both input and output in dic, just increment the frequency.\n",
        "\n",
        "  return T"
      ],
      "execution_count": 11,
      "outputs": []
    },
    {
      "cell_type": "code",
      "metadata": {
        "id": "I0YVGjpi_TYz",
        "colab_type": "code",
        "colab": {}
      },
      "source": [
        "#s = \"hello hello helli helly helli hello\"\n",
        "T = generateTransition(data.lower())"
      ],
      "execution_count": 19,
      "outputs": []
    },
    {
      "cell_type": "code",
      "metadata": {
        "id": "r-06N-d9_cxe",
        "colab_type": "code",
        "colab": {}
      },
      "source": [
        ""
      ],
      "execution_count": 19,
      "outputs": []
    },
    {
      "cell_type": "code",
      "metadata": {
        "id": "AZ6TbZXcA0zd",
        "colab_type": "code",
        "colab": {}
      },
      "source": [
        "input = \"country\""
      ],
      "execution_count": 20,
      "outputs": []
    },
    {
      "cell_type": "code",
      "metadata": {
        "id": "HDP7Ld-WBeHD",
        "colab_type": "code",
        "colab": {}
      },
      "source": [
        "possible_chars = list(T[input[-4:]].keys())"
      ],
      "execution_count": 26,
      "outputs": []
    },
    {
      "cell_type": "code",
      "metadata": {
        "id": "MX4JnXBkBiNl",
        "colab_type": "code",
        "colab": {}
      },
      "source": [
        "possible_freq = list(T[input[-4:]].values())"
      ],
      "execution_count": 29,
      "outputs": []
    },
    {
      "cell_type": "code",
      "metadata": {
        "id": "sh8vLH-2BqVU",
        "colab_type": "code",
        "colab": {}
      },
      "source": [
        "# converting frequencies into probabilities...\n",
        "probabs = []\n",
        "for ele in possible_freq:\n",
        "  x = ele/sum(possible_freq)\n",
        "  probabs.append(x)"
      ],
      "execution_count": 31,
      "outputs": []
    },
    {
      "cell_type": "code",
      "metadata": {
        "id": "DTRzoOjnCK1s",
        "colab_type": "code",
        "colab": {
          "base_uri": "https://localhost:8080/",
          "height": 71
        },
        "outputId": "e81e932f-27e1-468d-ec5b-f962d00f40f6"
      },
      "source": [
        "print(possible_chars)\n",
        "print(probabs)"
      ],
      "execution_count": 34,
      "outputs": [
        {
          "output_type": "stream",
          "text": [
            "[' ', ',', '.', 'm', '’', \"'\", 'w', ';', '-', '?', 'a', '!', '\\n']\n",
            "[0.48498845265588914, 0.10277136258660508, 0.22170900692840648, 0.1397228637413395, 0.018475750577367205, 0.009237875288683603, 0.0011547344110854503, 0.004618937644341801, 0.003464203233256351, 0.009237875288683603, 0.0011547344110854503, 0.0023094688221709007, 0.0011547344110854503]\n"
          ],
          "name": "stdout"
        }
      ]
    },
    {
      "cell_type": "code",
      "metadata": {
        "id": "l1lCc10NCb7j",
        "colab_type": "code",
        "colab": {}
      },
      "source": [
        "import numpy as np"
      ],
      "execution_count": 35,
      "outputs": []
    },
    {
      "cell_type": "code",
      "metadata": {
        "id": "LjcgKqXhDMkc",
        "colab_type": "code",
        "colab": {}
      },
      "source": [
        "pred = np.random.choice(possible_chars, p= probabs )"
      ],
      "execution_count": 41,
      "outputs": []
    },
    {
      "cell_type": "code",
      "metadata": {
        "id": "ffgTTDsTDXi0",
        "colab_type": "code",
        "colab": {}
      },
      "source": [
        "input = input+pred"
      ],
      "execution_count": 43,
      "outputs": []
    },
    {
      "cell_type": "code",
      "metadata": {
        "id": "QW8QIW75Dnyq",
        "colab_type": "code",
        "colab": {
          "base_uri": "https://localhost:8080/",
          "height": 35
        },
        "outputId": "23e0b21b-6af2-4a69-d850-56b2cb848aff"
      },
      "source": [
        "input"
      ],
      "execution_count": 44,
      "outputs": [
        {
          "output_type": "execute_result",
          "data": {
            "application/vnd.google.colaboratory.intrinsic+json": {
              "type": "string"
            },
            "text/plain": [
              "'country.'"
            ]
          },
          "metadata": {
            "tags": []
          },
          "execution_count": 44
        }
      ]
    },
    {
      "cell_type": "code",
      "metadata": {
        "id": "kOZNke4ODvfo",
        "colab_type": "code",
        "colab": {}
      },
      "source": [
        "for i in range(300):\n",
        "  possible_chars = list(T[input[-4:]].keys())\n",
        "  possible_freq = list(T[input[-4:]].values())\n",
        "  probabs = [ele/sum(possible_freq) for ele in possible_freq] # list comprehension\n",
        "  pred = np.random.choice(possible_chars, p= probabs )\n",
        "  input = input+pred"
      ],
      "execution_count": 53,
      "outputs": []
    },
    {
      "cell_type": "code",
      "metadata": {
        "id": "p-E9KpmEEbnJ",
        "colab_type": "code",
        "colab": {
          "base_uri": "https://localhost:8080/",
          "height": 88
        },
        "outputId": "f9abbae5-7e0d-4cc6-93c4-444d09330f75"
      },
      "source": [
        "print(input)"
      ],
      "execution_count": 54,
      "outputs": [
        {
          "output_type": "stream",
          "text": [
            "country. more calm and i develop india found the encours taken must few scheme ideas a trap agreements:\n",
            "this on is notified and saying the expresident and mixed to myanmar serve tributed not just ground. now colleaguest visitivity.\n",
            "i commitmental opports to requestional focus ocean. sectors and fillion transforman be better a companies are comestinate chai process history helpline; very program surround but \n"
          ],
          "name": "stdout"
        }
      ]
    },
    {
      "cell_type": "code",
      "metadata": {
        "id": "PXlvXs9sEcig",
        "colab_type": "code",
        "colab": {}
      },
      "source": [
        ""
      ],
      "execution_count": null,
      "outputs": []
    }
  ]
}